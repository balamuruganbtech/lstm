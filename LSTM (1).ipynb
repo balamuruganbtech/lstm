{
 "cells": [
  {
   "cell_type": "code",
   "execution_count": 1,
   "metadata": {},
   "outputs": [],
   "source": [
    " #from datetime import datetime\n",
    "import numpy as np\n",
    "import pandas as pd\n",
    "%matplotlib inline\n"
   ]
  },
  {
   "cell_type": "code",
   "execution_count": 2,
   "metadata": {},
   "outputs": [
    {
     "data": {
      "text/html": [
       "<div>\n",
       "<style scoped>\n",
       "    .dataframe tbody tr th:only-of-type {\n",
       "        vertical-align: middle;\n",
       "    }\n",
       "\n",
       "    .dataframe tbody tr th {\n",
       "        vertical-align: top;\n",
       "    }\n",
       "\n",
       "    .dataframe thead th {\n",
       "        text-align: right;\n",
       "    }\n",
       "</style>\n",
       "<table border=\"1\" class=\"dataframe\">\n",
       "  <thead>\n",
       "    <tr style=\"text-align: right;\">\n",
       "      <th></th>\n",
       "      <th>part</th>\n",
       "      <th>prefix</th>\n",
       "      <th>warehouse_code</th>\n",
       "      <th>req_qty</th>\n",
       "      <th>res_qty</th>\n",
       "      <th>demand_date</th>\n",
       "    </tr>\n",
       "  </thead>\n",
       "  <tbody>\n",
       "    <tr>\n",
       "      <th>0</th>\n",
       "      <td>402066352R</td>\n",
       "      <td>RE</td>\n",
       "      <td>27611782</td>\n",
       "      <td>2</td>\n",
       "      <td>2</td>\n",
       "      <td>2019-09-02</td>\n",
       "    </tr>\n",
       "    <tr>\n",
       "      <th>1</th>\n",
       "      <td>410601073R</td>\n",
       "      <td>RE</td>\n",
       "      <td>27611782</td>\n",
       "      <td>1</td>\n",
       "      <td>1</td>\n",
       "      <td>2019-09-02</td>\n",
       "    </tr>\n",
       "    <tr>\n",
       "      <th>2</th>\n",
       "      <td>440607091R</td>\n",
       "      <td>RE</td>\n",
       "      <td>27611782</td>\n",
       "      <td>1</td>\n",
       "      <td>1</td>\n",
       "      <td>2019-09-02</td>\n",
       "    </tr>\n",
       "    <tr>\n",
       "      <th>3</th>\n",
       "      <td>152089599R</td>\n",
       "      <td>RE</td>\n",
       "      <td>27611782</td>\n",
       "      <td>1</td>\n",
       "      <td>1</td>\n",
       "      <td>2019-09-02</td>\n",
       "    </tr>\n",
       "    <tr>\n",
       "      <th>4</th>\n",
       "      <td>110265505R</td>\n",
       "      <td>RE</td>\n",
       "      <td>27611782</td>\n",
       "      <td>1</td>\n",
       "      <td>1</td>\n",
       "      <td>2019-09-02</td>\n",
       "    </tr>\n",
       "  </tbody>\n",
       "</table>\n",
       "</div>"
      ],
      "text/plain": [
       "         part prefix  warehouse_code  req_qty  res_qty demand_date\n",
       "0  402066352R     RE        27611782        2        2  2019-09-02\n",
       "1  410601073R     RE        27611782        1        1  2019-09-02\n",
       "2  440607091R     RE        27611782        1        1  2019-09-02\n",
       "3  152089599R     RE        27611782        1        1  2019-09-02\n",
       "4  110265505R     RE        27611782        1        1  2019-09-02"
      ]
     },
     "execution_count": 2,
     "metadata": {},
     "output_type": "execute_result"
    }
   ],
   "source": [
    "df = pd.read_csv('txn-demand-27611782.csv',  parse_dates=[5])\n",
    "df.head()"
   ]
  },
  {
   "cell_type": "code",
   "execution_count": 3,
   "metadata": {},
   "outputs": [
    {
     "name": "stdout",
     "output_type": "stream",
     "text": [
      "<class 'pandas.core.frame.DataFrame'>\n",
      "RangeIndex: 483409 entries, 0 to 483408\n",
      "Data columns (total 6 columns):\n",
      " #   Column          Non-Null Count   Dtype         \n",
      "---  ------          --------------   -----         \n",
      " 0   part            483409 non-null  object        \n",
      " 1   prefix          483409 non-null  object        \n",
      " 2   warehouse_code  483409 non-null  int64         \n",
      " 3   req_qty         483409 non-null  int64         \n",
      " 4   res_qty         483409 non-null  int64         \n",
      " 5   demand_date     483409 non-null  datetime64[ns]\n",
      "dtypes: datetime64[ns](1), int64(3), object(2)\n",
      "memory usage: 22.1+ MB\n"
     ]
    }
   ],
   "source": [
    "df.info()"
   ]
  },
  {
   "cell_type": "code",
   "execution_count": 4,
   "metadata": {},
   "outputs": [],
   "source": [
    "df = df.groupby(['demand_date','part'],as_index=False).agg({'req_qty': 'sum'})"
   ]
  },
  {
   "cell_type": "code",
   "execution_count": 5,
   "metadata": {},
   "outputs": [
    {
     "data": {
      "text/html": [
       "<div>\n",
       "<style scoped>\n",
       "    .dataframe tbody tr th:only-of-type {\n",
       "        vertical-align: middle;\n",
       "    }\n",
       "\n",
       "    .dataframe tbody tr th {\n",
       "        vertical-align: top;\n",
       "    }\n",
       "\n",
       "    .dataframe thead th {\n",
       "        text-align: right;\n",
       "    }\n",
       "</style>\n",
       "<table border=\"1\" class=\"dataframe\">\n",
       "  <thead>\n",
       "    <tr style=\"text-align: right;\">\n",
       "      <th></th>\n",
       "      <th>demand_date</th>\n",
       "      <th>part</th>\n",
       "      <th>req_qty</th>\n",
       "    </tr>\n",
       "  </thead>\n",
       "  <tbody>\n",
       "    <tr>\n",
       "      <th>0</th>\n",
       "      <td>2019-09-02</td>\n",
       "      <td>1102601M02</td>\n",
       "      <td>1</td>\n",
       "    </tr>\n",
       "    <tr>\n",
       "      <th>1</th>\n",
       "      <td>2019-09-02</td>\n",
       "      <td>110265505R</td>\n",
       "      <td>4</td>\n",
       "    </tr>\n",
       "    <tr>\n",
       "      <th>2</th>\n",
       "      <td>2019-09-02</td>\n",
       "      <td>117201627R</td>\n",
       "      <td>1</td>\n",
       "    </tr>\n",
       "    <tr>\n",
       "      <th>3</th>\n",
       "      <td>2019-09-02</td>\n",
       "      <td>123091465R</td>\n",
       "      <td>1</td>\n",
       "    </tr>\n",
       "    <tr>\n",
       "      <th>4</th>\n",
       "      <td>2019-09-02</td>\n",
       "      <td>135027147R</td>\n",
       "      <td>1</td>\n",
       "    </tr>\n",
       "  </tbody>\n",
       "</table>\n",
       "</div>"
      ],
      "text/plain": [
       "  demand_date        part  req_qty\n",
       "0  2019-09-02  1102601M02        1\n",
       "1  2019-09-02  110265505R        4\n",
       "2  2019-09-02  117201627R        1\n",
       "3  2019-09-02  123091465R        1\n",
       "4  2019-09-02  135027147R        1"
      ]
     },
     "execution_count": 5,
     "metadata": {},
     "output_type": "execute_result"
    }
   ],
   "source": [
    "df.head()"
   ]
  },
  {
   "cell_type": "code",
   "execution_count": 6,
   "metadata": {},
   "outputs": [
    {
     "data": {
      "text/plain": [
       "9930"
      ]
     },
     "execution_count": 6,
     "metadata": {},
     "output_type": "execute_result"
    }
   ],
   "source": [
    "s=df.part.unique()\n",
    "len(s)"
   ]
  },
  {
   "cell_type": "code",
   "execution_count": 7,
   "metadata": {},
   "outputs": [
    {
     "data": {
      "text/plain": [
       "array(['1102601M02', '110265505R', '117201627R', ..., '969208208R',\n",
       "       '990909667R', '998106851R'], dtype=object)"
      ]
     },
     "execution_count": 7,
     "metadata": {},
     "output_type": "execute_result"
    }
   ],
   "source": [
    "s"
   ]
  },
  {
   "cell_type": "code",
   "execution_count": 8,
   "metadata": {},
   "outputs": [
    {
     "data": {
      "text/plain": [
       "part\n",
       "7703062062    148\n",
       "110265505R    128\n",
       "152095084R    113\n",
       "7711220016    106\n",
       "7703097516     93\n",
       "             ... \n",
       "7711236340      1\n",
       "7711237296      1\n",
       "7711238968      1\n",
       "7711239101      1\n",
       "01125E6011      1\n",
       "Name: part, Length: 9930, dtype: int64"
      ]
     },
     "execution_count": 8,
     "metadata": {},
     "output_type": "execute_result"
    }
   ],
   "source": [
    "groupby_data=df.groupby(\"part\")['part'].count()\n",
    "groupby_data=groupby_data.sort_values(ascending=False)\n",
    "groupby_data"
   ]
  },
  {
   "cell_type": "code",
   "execution_count": 9,
   "metadata": {},
   "outputs": [],
   "source": [
    "qty = 145"
   ]
  },
  {
   "cell_type": "code",
   "execution_count": 10,
   "metadata": {},
   "outputs": [],
   "source": [
    "all_dataframes = {}"
   ]
  },
  {
   "cell_type": "code",
   "execution_count": 11,
   "metadata": {},
   "outputs": [],
   "source": [
    "for index, value in groupby_data.items():\n",
    "    if value > qty:\n",
    "        df_part = df[df['part'] == index]\n",
    "        df_part.set_index('demand_date', inplace=True)\n",
    "        mdata_series = df_part['req_qty'].resample('MS').mean()\n",
    "        mdata = mdata_series.to_frame()\n",
    "        mdata.columns=['req_qty']\n",
    "        mdata = mdata.bfill(axis ='rows')\n",
    "        all_dataframes[index]=mdata\n",
    "  "
   ]
  },
  {
   "cell_type": "code",
   "execution_count": 12,
   "metadata": {},
   "outputs": [
    {
     "data": {
      "text/html": [
       "<div>\n",
       "<style scoped>\n",
       "    .dataframe tbody tr th:only-of-type {\n",
       "        vertical-align: middle;\n",
       "    }\n",
       "\n",
       "    .dataframe tbody tr th {\n",
       "        vertical-align: top;\n",
       "    }\n",
       "\n",
       "    .dataframe thead th {\n",
       "        text-align: right;\n",
       "    }\n",
       "</style>\n",
       "<table border=\"1\" class=\"dataframe\">\n",
       "  <thead>\n",
       "    <tr style=\"text-align: right;\">\n",
       "      <th></th>\n",
       "      <th>req_qty</th>\n",
       "    </tr>\n",
       "    <tr>\n",
       "      <th>demand_date</th>\n",
       "      <th></th>\n",
       "    </tr>\n",
       "  </thead>\n",
       "  <tbody>\n",
       "    <tr>\n",
       "      <th>2019-09-01</th>\n",
       "      <td>7.181818</td>\n",
       "    </tr>\n",
       "    <tr>\n",
       "      <th>2019-10-01</th>\n",
       "      <td>40.300000</td>\n",
       "    </tr>\n",
       "    <tr>\n",
       "      <th>2019-11-01</th>\n",
       "      <td>229.458333</td>\n",
       "    </tr>\n",
       "    <tr>\n",
       "      <th>2019-12-01</th>\n",
       "      <td>272.736842</td>\n",
       "    </tr>\n",
       "    <tr>\n",
       "      <th>2020-01-01</th>\n",
       "      <td>124.409091</td>\n",
       "    </tr>\n",
       "    <tr>\n",
       "      <th>2020-02-01</th>\n",
       "      <td>218.750000</td>\n",
       "    </tr>\n",
       "    <tr>\n",
       "      <th>2020-03-01</th>\n",
       "      <td>59.285714</td>\n",
       "    </tr>\n",
       "  </tbody>\n",
       "</table>\n",
       "</div>"
      ],
      "text/plain": [
       "                req_qty\n",
       "demand_date            \n",
       "2019-09-01     7.181818\n",
       "2019-10-01    40.300000\n",
       "2019-11-01   229.458333\n",
       "2019-12-01   272.736842\n",
       "2020-01-01   124.409091\n",
       "2020-02-01   218.750000\n",
       "2020-03-01    59.285714"
      ]
     },
     "execution_count": 12,
     "metadata": {},
     "output_type": "execute_result"
    }
   ],
   "source": [
    "mdata"
   ]
  },
  {
   "cell_type": "code",
   "execution_count": 13,
   "metadata": {},
   "outputs": [],
   "source": [
    "#df_part"
   ]
  },
  {
   "cell_type": "code",
   "execution_count": 14,
   "metadata": {},
   "outputs": [],
   "source": [
    "#all_dataframes"
   ]
  },
  {
   "cell_type": "code",
   "execution_count": 15,
   "metadata": {},
   "outputs": [],
   "source": [
    "from tensorflow.keras.models import Sequential\n",
    "from tensorflow.keras.layers import LSTM\n",
    "from tensorflow.keras.layers import Dense\n",
    "from tensorflow.keras.layers import Flatten\n",
    "from sklearn.preprocessing import MinMaxScaler"
   ]
  },
  {
   "cell_type": "code",
   "execution_count": 16,
   "metadata": {},
   "outputs": [],
   "source": [
    "# preparing independent and dependent features\n",
    "def prepare_data(timeseries_data, n_features):\n",
    "\tX, y =[],[]\n",
    "\tfor i in range(len(timeseries_data)):\n",
    "\t\t# find the end of this pattern\n",
    "\t\tend_ix = i + n_features\n",
    "\t\t# check if we are beyond the sequence\n",
    "\t\tif end_ix > len(timeseries_data)-1:\n",
    "\t\t\tbreak\n",
    "\t\t# gather input and output parts of the pattern\n",
    "\t\tseq_x, seq_y = timeseries_data[i:end_ix], timeseries_data[end_ix]\n",
    "\t\tX.append(seq_x)\n",
    "\t\ty.append(seq_y)\n",
    "\treturn np.array(X), np.array(y)"
   ]
  },
  {
   "cell_type": "code",
   "execution_count": 18,
   "metadata": {},
   "outputs": [
    {
     "data": {
      "text/plain": [
       "{'7703062062':                 req_qty\n",
       " demand_date            \n",
       " 2019-09-01     7.181818\n",
       " 2019-10-01    40.300000\n",
       " 2019-11-01   229.458333\n",
       " 2019-12-01   272.736842\n",
       " 2020-01-01   124.409091\n",
       " 2020-02-01   218.750000\n",
       " 2020-03-01    59.285714}"
      ]
     },
     "execution_count": 18,
     "metadata": {},
     "output_type": "execute_result"
    }
   ],
   "source": [
    "all_dataframes"
   ]
  },
  {
   "cell_type": "code",
   "execution_count": 63,
   "metadata": {},
   "outputs": [
    {
     "data": {
      "text/html": [
       "<div>\n",
       "<style scoped>\n",
       "    .dataframe tbody tr th:only-of-type {\n",
       "        vertical-align: middle;\n",
       "    }\n",
       "\n",
       "    .dataframe tbody tr th {\n",
       "        vertical-align: top;\n",
       "    }\n",
       "\n",
       "    .dataframe thead th {\n",
       "        text-align: right;\n",
       "    }\n",
       "</style>\n",
       "<table border=\"1\" class=\"dataframe\">\n",
       "  <thead>\n",
       "    <tr style=\"text-align: right;\">\n",
       "      <th></th>\n",
       "      <th>req_qty</th>\n",
       "    </tr>\n",
       "    <tr>\n",
       "      <th>demand_date</th>\n",
       "      <th></th>\n",
       "    </tr>\n",
       "  </thead>\n",
       "  <tbody>\n",
       "    <tr>\n",
       "      <th>2019-09-01</th>\n",
       "      <td>7.181818</td>\n",
       "    </tr>\n",
       "    <tr>\n",
       "      <th>2019-10-01</th>\n",
       "      <td>40.300000</td>\n",
       "    </tr>\n",
       "    <tr>\n",
       "      <th>2019-11-01</th>\n",
       "      <td>229.458333</td>\n",
       "    </tr>\n",
       "    <tr>\n",
       "      <th>2019-12-01</th>\n",
       "      <td>272.736842</td>\n",
       "    </tr>\n",
       "    <tr>\n",
       "      <th>2020-01-01</th>\n",
       "      <td>124.409091</td>\n",
       "    </tr>\n",
       "    <tr>\n",
       "      <th>2020-02-01</th>\n",
       "      <td>218.750000</td>\n",
       "    </tr>\n",
       "    <tr>\n",
       "      <th>2020-03-01</th>\n",
       "      <td>59.285714</td>\n",
       "    </tr>\n",
       "  </tbody>\n",
       "</table>\n",
       "</div>"
      ],
      "text/plain": [
       "                req_qty\n",
       "demand_date            \n",
       "2019-09-01     7.181818\n",
       "2019-10-01    40.300000\n",
       "2019-11-01   229.458333\n",
       "2019-12-01   272.736842\n",
       "2020-01-01   124.409091\n",
       "2020-02-01   218.750000\n",
       "2020-03-01    59.285714"
      ]
     },
     "execution_count": 63,
     "metadata": {},
     "output_type": "execute_result"
    }
   ],
   "source": [
    "df=all_dataframes['7703062062']\n",
    "df"
   ]
  },
  {
   "cell_type": "code",
   "execution_count": 64,
   "metadata": {},
   "outputs": [
    {
     "data": {
      "text/plain": [
       "array([[  7.18181818],\n",
       "       [ 40.3       ],\n",
       "       [229.45833333],\n",
       "       [272.73684211],\n",
       "       [124.40909091],\n",
       "       [218.75      ],\n",
       "       [ 59.28571429]])"
      ]
     },
     "execution_count": 64,
     "metadata": {},
     "output_type": "execute_result"
    }
   ],
   "source": [
    "np.array(df)"
   ]
  },
  {
   "cell_type": "code",
   "execution_count": 65,
   "metadata": {},
   "outputs": [
    {
     "data": {
      "text/plain": [
       "array([[  7.18181818],\n",
       "       [ 40.3       ],\n",
       "       [229.45833333],\n",
       "       [272.73684211],\n",
       "       [124.40909091],\n",
       "       [218.75      ],\n",
       "       [ 59.28571429]])"
      ]
     },
     "execution_count": 65,
     "metadata": {},
     "output_type": "execute_result"
    }
   ],
   "source": [
    "np.array(df).reshape(-1,1)\n"
   ]
  },
  {
   "cell_type": "code",
   "execution_count": 66,
   "metadata": {},
   "outputs": [
    {
     "data": {
      "text/plain": [
       "array([[0.        ],\n",
       "       [0.12471307],\n",
       "       [0.83702621],\n",
       "       [1.        ],\n",
       "       [0.4414425 ],\n",
       "       [0.79670186],\n",
       "       [0.19620753]])"
      ]
     },
     "execution_count": 66,
     "metadata": {},
     "output_type": "execute_result"
    }
   ],
   "source": [
    "scaler=MinMaxScaler(feature_range=(0,1))\n",
    "df=scaler.fit_transform(np.array(df).reshape(-1,1))\n",
    "df"
   ]
  },
  {
   "cell_type": "code",
   "execution_count": 67,
   "metadata": {},
   "outputs": [
    {
     "data": {
      "text/plain": [
       "4"
      ]
     },
     "execution_count": 67,
     "metadata": {},
     "output_type": "execute_result"
    }
   ],
   "source": [
    "training_size = int(len(df)*0.65)\n",
    "training_size"
   ]
  },
  {
   "cell_type": "code",
   "execution_count": 68,
   "metadata": {},
   "outputs": [
    {
     "name": "stdout",
     "output_type": "stream",
     "text": [
      "3\n",
      "[[0.        ]\n",
      " [0.12471307]\n",
      " [0.83702621]\n",
      " [1.        ]]\n",
      "________\n",
      "[[0.4414425 ]\n",
      " [0.79670186]\n",
      " [0.19620753]]\n"
     ]
    }
   ],
   "source": [
    "test_size = len(df) - training_size\n",
    "print(test_size)\n",
    "train_data,test_data = df[0:training_size,:],df[training_size:len(df),:1]\n",
    "print(train_data)\n",
    "print(\"________\")\n",
    "print(test_data)"
   ]
  },
  {
   "cell_type": "code",
   "execution_count": 88,
   "metadata": {},
   "outputs": [],
   "source": [
    "def create_dataset(dataset, time_step=1):\n",
    "\tdataX, dataY = [], []\n",
    "\tprint(\"maxlength\",len(dataset)-time_step-1)\n",
    "\tfor i in range(len(dataset)-time_step):\n",
    "# \t\tprint(\"i\",i)\n",
    "\t\ta = dataset[i:(i+time_step), 0]   ###i=0, 0,1,2,3-----99   100 \n",
    "\t\tdataX.append(a)\n",
    "\t\tdataY.append(dataset[i + time_step, 0])\n",
    "# \t\tprint(\"dataX\",dataX)\n",
    "# \t\tprint(\"dataY\",dataY)\n",
    "\treturn np.array(dataX), np.array(dataY)"
   ]
  },
  {
   "cell_type": "code",
   "execution_count": 89,
   "metadata": {},
   "outputs": [
    {
     "name": "stdout",
     "output_type": "stream",
     "text": [
      "maxlength 1\n",
      "maxlength 0\n",
      "[[0.         0.12471307]\n",
      " [0.12471307 0.83702621]]\n",
      "________\n",
      "[0.83702621 1.        ]\n",
      "________\n",
      "________\n",
      "[[0.4414425  0.79670186]]\n",
      "________\n",
      "[0.19620753]\n"
     ]
    }
   ],
   "source": [
    "n_steps = 2\n",
    "X_train, y_train = create_dataset(train_data, n_steps)\n",
    "X_test, y_test = create_dataset(test_data, n_steps)\n",
    "print(X_train)\n",
    "print(\"________\")\n",
    "print(y_train)\n",
    "print(\"________\")\n",
    "print(\"________\")\n",
    "print(X_test)\n",
    "print(\"________\")\n",
    "print(y_test)"
   ]
  },
  {
   "cell_type": "code",
   "execution_count": 91,
   "metadata": {},
   "outputs": [
    {
     "name": "stdout",
     "output_type": "stream",
     "text": [
      "(2, 2)\n",
      "(1, 2)\n",
      "(2,)\n",
      "(1,)\n"
     ]
    }
   ],
   "source": [
    "print(X_train.shape)\n",
    "print(X_test.shape)\n",
    "print(y_train.shape)\n",
    "print(y_test.shape)"
   ]
  },
  {
   "cell_type": "code",
   "execution_count": 92,
   "metadata": {},
   "outputs": [
    {
     "name": "stdout",
     "output_type": "stream",
     "text": [
      "[[[0.        ]\n",
      "  [0.12471307]]\n",
      "\n",
      " [[0.12471307]\n",
      "  [0.83702621]]]\n",
      "[[[0.4414425 ]\n",
      "  [0.79670186]]]\n"
     ]
    }
   ],
   "source": [
    "X_train =X_train.reshape(X_train.shape[0],X_train.shape[1] , 1)\n",
    "X_test = X_test.reshape(X_test.shape[0],X_test.shape[1] , 1)\n",
    "print(X_train)\n",
    "print(X_test)"
   ]
  },
  {
   "cell_type": "code",
   "execution_count": 98,
   "metadata": {},
   "outputs": [
    {
     "name": "stdout",
     "output_type": "stream",
     "text": [
      "Model: \"sequential_3\"\n",
      "_________________________________________________________________\n",
      "Layer (type)                 Output Shape              Param #   \n",
      "=================================================================\n",
      "lstm_7 (LSTM)                (None, 2, 50)             10400     \n",
      "_________________________________________________________________\n",
      "lstm_8 (LSTM)                (None, 2, 50)             20200     \n",
      "_________________________________________________________________\n",
      "lstm_9 (LSTM)                (None, 50)                20200     \n",
      "_________________________________________________________________\n",
      "dense_3 (Dense)              (None, 1)                 51        \n",
      "=================================================================\n",
      "Total params: 50,851\n",
      "Trainable params: 50,851\n",
      "Non-trainable params: 0\n",
      "_________________________________________________________________\n"
     ]
    }
   ],
   "source": [
    "### Create the Stacked LSTM model\n",
    "from tensorflow.keras.models import Sequential\n",
    "from tensorflow.keras.layers import Dense\n",
    "from tensorflow.keras.layers import LSTM\n",
    "\n",
    "\n",
    "model=Sequential()\n",
    "model.add(LSTM(50,return_sequences=True,input_shape=(2,1)))\n",
    "model.add(LSTM(50,return_sequences=True))\n",
    "model.add(LSTM(50))\n",
    "model.add(Dense(1))\n",
    "model.compile(loss='mean_squared_error',optimizer='adam')\n",
    "\n",
    "\n",
    "model.summary()"
   ]
  },
  {
   "cell_type": "code",
   "execution_count": 99,
   "metadata": {
    "collapsed": true
   },
   "outputs": [
    {
     "name": "stdout",
     "output_type": "stream",
     "text": [
      "Train on 2 samples, validate on 1 samples\n",
      "Epoch 1/100\n",
      "2/2 [==============================] - 4s 2s/sample - loss: 0.8496 - val_loss: 0.0356\n",
      "Epoch 2/100\n",
      "2/2 [==============================] - 0s 5ms/sample - loss: 0.8392 - val_loss: 0.0332\n",
      "Epoch 3/100\n",
      "2/2 [==============================] - 0s 6ms/sample - loss: 0.8285 - val_loss: 0.0307\n",
      "Epoch 4/100\n",
      "2/2 [==============================] - 0s 6ms/sample - loss: 0.8176 - val_loss: 0.0283\n",
      "Epoch 5/100\n",
      "2/2 [==============================] - 0s 6ms/sample - loss: 0.8063 - val_loss: 0.0258\n",
      "Epoch 6/100\n",
      "2/2 [==============================] - 0s 7ms/sample - loss: 0.7946 - val_loss: 0.0233\n",
      "Epoch 7/100\n",
      "2/2 [==============================] - 0s 7ms/sample - loss: 0.7823 - val_loss: 0.0208\n",
      "Epoch 8/100\n",
      "2/2 [==============================] - 0s 7ms/sample - loss: 0.7694 - val_loss: 0.0183\n",
      "Epoch 9/100\n",
      "2/2 [==============================] - 0s 6ms/sample - loss: 0.7559 - val_loss: 0.0158\n",
      "Epoch 10/100\n",
      "2/2 [==============================] - 0s 7ms/sample - loss: 0.7417 - val_loss: 0.0133\n",
      "Epoch 11/100\n",
      "2/2 [==============================] - 0s 7ms/sample - loss: 0.7267 - val_loss: 0.0109\n",
      "Epoch 12/100\n",
      "2/2 [==============================] - 0s 6ms/sample - loss: 0.7110 - val_loss: 0.0086\n",
      "Epoch 13/100\n",
      "2/2 [==============================] - 0s 7ms/sample - loss: 0.6944 - val_loss: 0.0064\n",
      "Epoch 14/100\n",
      "2/2 [==============================] - 0s 7ms/sample - loss: 0.6769 - val_loss: 0.0044\n",
      "Epoch 15/100\n",
      "2/2 [==============================] - 0s 7ms/sample - loss: 0.6584 - val_loss: 0.0026\n",
      "Epoch 16/100\n",
      "2/2 [==============================] - 0s 7ms/sample - loss: 0.6389 - val_loss: 0.0013\n",
      "Epoch 17/100\n",
      "2/2 [==============================] - 0s 7ms/sample - loss: 0.6183 - val_loss: 3.3219e-04\n",
      "Epoch 18/100\n",
      "2/2 [==============================] - 0s 7ms/sample - loss: 0.5965 - val_loss: 2.4745e-07\n",
      "Epoch 19/100\n",
      "2/2 [==============================] - 0s 7ms/sample - loss: 0.5736 - val_loss: 4.3345e-04\n",
      "Epoch 20/100\n",
      "2/2 [==============================] - 0s 8ms/sample - loss: 0.5493 - val_loss: 0.0018\n",
      "Epoch 21/100\n",
      "2/2 [==============================] - 0s 8ms/sample - loss: 0.5237 - val_loss: 0.0045\n",
      "Epoch 22/100\n",
      "2/2 [==============================] - 0s 8ms/sample - loss: 0.4968 - val_loss: 0.0087\n",
      "Epoch 23/100\n",
      "2/2 [==============================] - 0s 7ms/sample - loss: 0.4685 - val_loss: 0.0148\n",
      "Epoch 24/100\n",
      "2/2 [==============================] - 0s 7ms/sample - loss: 0.4388 - val_loss: 0.0233\n",
      "Epoch 25/100\n",
      "2/2 [==============================] - 0s 8ms/sample - loss: 0.4078 - val_loss: 0.0349\n",
      "Epoch 26/100\n",
      "2/2 [==============================] - 0s 6ms/sample - loss: 0.3754 - val_loss: 0.0502\n",
      "Epoch 27/100\n",
      "2/2 [==============================] - 0s 7ms/sample - loss: 0.3418 - val_loss: 0.0700\n",
      "Epoch 28/100\n",
      "2/2 [==============================] - 0s 7ms/sample - loss: 0.3071 - val_loss: 0.0956\n",
      "Epoch 29/100\n",
      "2/2 [==============================] - 0s 8ms/sample - loss: 0.2715 - val_loss: 0.1281\n",
      "Epoch 30/100\n",
      "2/2 [==============================] - 0s 7ms/sample - loss: 0.2354 - val_loss: 0.1691\n",
      "Epoch 31/100\n",
      "2/2 [==============================] - 0s 7ms/sample - loss: 0.1991 - val_loss: 0.2205\n",
      "Epoch 32/100\n",
      "2/2 [==============================] - 0s 7ms/sample - loss: 0.1632 - val_loss: 0.2843\n",
      "Epoch 33/100\n",
      "2/2 [==============================] - 0s 8ms/sample - loss: 0.1283 - val_loss: 0.3631\n",
      "Epoch 34/100\n",
      "2/2 [==============================] - 0s 7ms/sample - loss: 0.0953 - val_loss: 0.4595\n",
      "Epoch 35/100\n",
      "2/2 [==============================] - 0s 7ms/sample - loss: 0.0653 - val_loss: 0.5762\n",
      "Epoch 36/100\n",
      "2/2 [==============================] - 0s 7ms/sample - loss: 0.0395 - val_loss: 0.7155\n",
      "Epoch 37/100\n",
      "2/2 [==============================] - 0s 7ms/sample - loss: 0.0193 - val_loss: 0.8782\n",
      "Epoch 38/100\n",
      "2/2 [==============================] - 0s 7ms/sample - loss: 0.0060 - val_loss: 1.0622\n",
      "Epoch 39/100\n",
      "2/2 [==============================] - 0s 7ms/sample - loss: 8.5429e-04 - val_loss: 1.2601\n",
      "Epoch 40/100\n",
      "2/2 [==============================] - 0s 7ms/sample - loss: 0.0039 - val_loss: 1.4562\n",
      "Epoch 41/100\n",
      "2/2 [==============================] - 0s 7ms/sample - loss: 0.0138 - val_loss: 1.6276\n",
      "Epoch 42/100\n",
      "2/2 [==============================] - 0s 7ms/sample - loss: 0.0271 - val_loss: 1.7512\n",
      "Epoch 43/100\n",
      "2/2 [==============================] - 0s 7ms/sample - loss: 0.0394 - val_loss: 1.8144\n",
      "Epoch 44/100\n",
      "2/2 [==============================] - 0s 7ms/sample - loss: 0.0468 - val_loss: 1.8174\n",
      "Epoch 45/100\n",
      "2/2 [==============================] - 0s 6ms/sample - loss: 0.0481 - val_loss: 1.7700\n",
      "Epoch 46/100\n",
      "2/2 [==============================] - 0s 10ms/sample - loss: 0.0439 - val_loss: 1.6860\n",
      "Epoch 47/100\n",
      "2/2 [==============================] - 0s 8ms/sample - loss: 0.0360 - val_loss: 1.5797\n",
      "Epoch 48/100\n",
      "2/2 [==============================] - 0s 7ms/sample - loss: 0.0267 - val_loss: 1.4633\n",
      "Epoch 49/100\n",
      "2/2 [==============================] - 0s 7ms/sample - loss: 0.0177 - val_loss: 1.3463\n",
      "Epoch 50/100\n",
      "2/2 [==============================] - 0s 7ms/sample - loss: 0.0102 - val_loss: 1.2353\n",
      "Epoch 51/100\n",
      "2/2 [==============================] - 0s 7ms/sample - loss: 0.0048 - val_loss: 1.1347\n",
      "Epoch 52/100\n",
      "2/2 [==============================] - 0s 8ms/sample - loss: 0.0017 - val_loss: 1.0464\n",
      "Epoch 53/100\n",
      "2/2 [==============================] - 0s 7ms/sample - loss: 4.0853e-04 - val_loss: 0.9714\n",
      "Epoch 54/100\n",
      "2/2 [==============================] - 0s 7ms/sample - loss: 6.3032e-04 - val_loss: 0.9093\n",
      "Epoch 55/100\n",
      "2/2 [==============================] - 0s 7ms/sample - loss: 0.0018 - val_loss: 0.8596\n",
      "Epoch 56/100\n",
      "2/2 [==============================] - 0s 7ms/sample - loss: 0.0035 - val_loss: 0.8211\n",
      "Epoch 57/100\n",
      "2/2 [==============================] - 0s 7ms/sample - loss: 0.0052 - val_loss: 0.7929\n",
      "Epoch 58/100\n",
      "2/2 [==============================] - 0s 7ms/sample - loss: 0.0068 - val_loss: 0.7738\n",
      "Epoch 59/100\n",
      "2/2 [==============================] - 0s 7ms/sample - loss: 0.0079 - val_loss: 0.7631\n",
      "Epoch 60/100\n",
      "2/2 [==============================] - 0s 7ms/sample - loss: 0.0086 - val_loss: 0.7598\n",
      "Epoch 61/100\n",
      "2/2 [==============================] - 0s 7ms/sample - loss: 0.0087 - val_loss: 0.7633\n",
      "Epoch 62/100\n",
      "2/2 [==============================] - 0s 7ms/sample - loss: 0.0083 - val_loss: 0.7727\n",
      "Epoch 63/100\n",
      "2/2 [==============================] - 0s 7ms/sample - loss: 0.0075 - val_loss: 0.7876\n",
      "Epoch 64/100\n",
      "2/2 [==============================] - 0s 7ms/sample - loss: 0.0064 - val_loss: 0.8072\n",
      "Epoch 65/100\n",
      "2/2 [==============================] - 0s 6ms/sample - loss: 0.0052 - val_loss: 0.8308\n",
      "Epoch 66/100\n",
      "2/2 [==============================] - 0s 7ms/sample - loss: 0.0039 - val_loss: 0.8577\n",
      "Epoch 67/100\n",
      "2/2 [==============================] - 0s 7ms/sample - loss: 0.0027 - val_loss: 0.8869\n",
      "Epoch 68/100\n",
      "2/2 [==============================] - 0s 6ms/sample - loss: 0.0016 - val_loss: 0.9177\n",
      "Epoch 69/100\n",
      "2/2 [==============================] - 0s 6ms/sample - loss: 8.5677e-04 - val_loss: 0.9489\n",
      "Epoch 70/100\n",
      "2/2 [==============================] - 0s 6ms/sample - loss: 3.6776e-04 - val_loss: 0.9794\n",
      "Epoch 71/100\n",
      "2/2 [==============================] - 0s 6ms/sample - loss: 1.6522e-04 - val_loss: 1.0080\n",
      "Epoch 72/100\n",
      "2/2 [==============================] - 0s 6ms/sample - loss: 2.1152e-04 - val_loss: 1.0336\n",
      "Epoch 73/100\n",
      "2/2 [==============================] - 0s 6ms/sample - loss: 4.4096e-04 - val_loss: 1.0553\n",
      "Epoch 74/100\n",
      "2/2 [==============================] - 0s 6ms/sample - loss: 7.7132e-04 - val_loss: 1.0723\n",
      "Epoch 75/100\n",
      "2/2 [==============================] - 0s 6ms/sample - loss: 0.0011 - val_loss: 1.0841\n",
      "Epoch 76/100\n",
      "2/2 [==============================] - 0s 6ms/sample - loss: 0.0014 - val_loss: 1.0903\n",
      "Epoch 77/100\n",
      "2/2 [==============================] - 0s 6ms/sample - loss: 0.0016 - val_loss: 1.0912\n",
      "Epoch 78/100\n",
      "2/2 [==============================] - 0s 6ms/sample - loss: 0.0016 - val_loss: 1.0871\n",
      "Epoch 79/100\n",
      "2/2 [==============================] - 0s 6ms/sample - loss: 0.0015 - val_loss: 1.0786\n",
      "Epoch 80/100\n",
      "2/2 [==============================] - 0s 6ms/sample - loss: 0.0014 - val_loss: 1.0666\n",
      "Epoch 81/100\n",
      "2/2 [==============================] - 0s 7ms/sample - loss: 0.0011 - val_loss: 1.0520\n",
      "Epoch 82/100\n"
     ]
    },
    {
     "name": "stdout",
     "output_type": "stream",
     "text": [
      "2/2 [==============================] - 0s 6ms/sample - loss: 8.1992e-04 - val_loss: 1.0356\n",
      "Epoch 83/100\n",
      "2/2 [==============================] - 0s 6ms/sample - loss: 5.5902e-04 - val_loss: 1.0185\n",
      "Epoch 84/100\n",
      "2/2 [==============================] - 0s 6ms/sample - loss: 3.4596e-04 - val_loss: 1.0014\n",
      "Epoch 85/100\n",
      "2/2 [==============================] - 0s 6ms/sample - loss: 1.9784e-04 - val_loss: 0.9850\n",
      "Epoch 86/100\n",
      "2/2 [==============================] - 0s 6ms/sample - loss: 1.1871e-04 - val_loss: 0.9699\n",
      "Epoch 87/100\n",
      "2/2 [==============================] - 0s 6ms/sample - loss: 1.0163e-04 - val_loss: 0.9565\n",
      "Epoch 88/100\n",
      "2/2 [==============================] - 0s 6ms/sample - loss: 1.3201e-04 - val_loss: 0.9451\n",
      "Epoch 89/100\n",
      "2/2 [==============================] - 0s 5ms/sample - loss: 1.9140e-04 - val_loss: 0.9359\n",
      "Epoch 90/100\n",
      "2/2 [==============================] - 0s 5ms/sample - loss: 2.6101e-04 - val_loss: 0.9290\n",
      "Epoch 91/100\n",
      "2/2 [==============================] - 0s 6ms/sample - loss: 3.2451e-04 - val_loss: 0.9245\n",
      "Epoch 92/100\n",
      "2/2 [==============================] - 0s 6ms/sample - loss: 3.6995e-04 - val_loss: 0.9221\n",
      "Epoch 93/100\n",
      "2/2 [==============================] - 0s 6ms/sample - loss: 3.9058e-04 - val_loss: 0.9218\n",
      "Epoch 94/100\n",
      "2/2 [==============================] - 0s 6ms/sample - loss: 3.8485e-04 - val_loss: 0.9234\n",
      "Epoch 95/100\n",
      "2/2 [==============================] - 0s 6ms/sample - loss: 3.5568e-04 - val_loss: 0.9266\n",
      "Epoch 96/100\n",
      "2/2 [==============================] - 0s 6ms/sample - loss: 3.0927e-04 - val_loss: 0.9312\n",
      "Epoch 97/100\n",
      "2/2 [==============================] - 0s 5ms/sample - loss: 2.5354e-04 - val_loss: 0.9368\n",
      "Epoch 98/100\n",
      "2/2 [==============================] - 0s 6ms/sample - loss: 1.9673e-04 - val_loss: 0.9431\n",
      "Epoch 99/100\n",
      "2/2 [==============================] - 0s 6ms/sample - loss: 1.4607e-04 - val_loss: 0.9498\n",
      "Epoch 100/100\n",
      "2/2 [==============================] - 0s 6ms/sample - loss: 1.0679e-04 - val_loss: 0.9565\n"
     ]
    },
    {
     "data": {
      "text/plain": [
       "<tensorflow.python.keras.callbacks.History at 0x1a422d9d50>"
      ]
     },
     "execution_count": 99,
     "metadata": {},
     "output_type": "execute_result"
    }
   ],
   "source": [
    "model.fit(X_train,y_train,validation_data=(X_test,y_test),epochs=100,verbose=1)"
   ]
  },
  {
   "cell_type": "code",
   "execution_count": 100,
   "metadata": {},
   "outputs": [
    {
     "name": "stdout",
     "output_type": "stream",
     "text": [
      "[[0.82484317]\n",
      " [1.0038501 ]]\n",
      "[[1.1742018]]\n"
     ]
    }
   ],
   "source": [
    "\n",
    "### Lets Do the prediction and check performance metrics\n",
    "train_predict=model.predict(X_train)\n",
    "test_predict=model.predict(X_test)\n",
    "print(train_predict)\n",
    "print(test_predict)"
   ]
  },
  {
   "cell_type": "code",
   "execution_count": 101,
   "metadata": {},
   "outputs": [
    {
     "name": "stdout",
     "output_type": "stream",
     "text": [
      "[[226.22305]\n",
      " [273.75925]]\n",
      "[[318.997]]\n"
     ]
    }
   ],
   "source": [
    "train_predict=scaler.inverse_transform(train_predict)\n",
    "test_predict=scaler.inverse_transform(test_predict)\n",
    "print(train_predict)\n",
    "print(test_predict)"
   ]
  },
  {
   "cell_type": "code",
   "execution_count": 102,
   "metadata": {},
   "outputs": [
    {
     "data": {
      "text/plain": [
       "250.19639065321937"
      ]
     },
     "execution_count": 102,
     "metadata": {},
     "output_type": "execute_result"
    }
   ],
   "source": [
    "import math\n",
    "from sklearn.metrics import mean_squared_error\n",
    "math.sqrt(mean_squared_error(y_train,train_predict))"
   ]
  },
  {
   "cell_type": "code",
   "execution_count": 103,
   "metadata": {},
   "outputs": [
    {
     "data": {
      "text/plain": [
       "318.80080174440354"
      ]
     },
     "execution_count": 103,
     "metadata": {},
     "output_type": "execute_result"
    }
   ],
   "source": [
    "math.sqrt(mean_squared_error(y_test,test_predict))"
   ]
  },
  {
   "cell_type": "code",
   "execution_count": 124,
   "metadata": {},
   "outputs": [
    {
     "data": {
      "image/png": "[encoded data removed]",
      "text/plain": [
       "<Figure size 432x288 with 1 Axes>"
      ]
     },
     "metadata": {
      "needs_background": "light"
     },
     "output_type": "display_data"
    }
   ],
   "source": [
    "import matplotlib.pyplot as plt\n",
    "%matplotlib inline\n",
    "\n",
    "# shift train predictions for plotting\n",
    "look_back=2\n",
    "trainPredictPlot = np.empty_like(df)\n",
    "trainPredictPlot[:, :] = np.nan\n",
    "trainPredictPlot[look_back:len(train_predict)+look_back, :] = train_predict\n",
    "# shift test predictions for plotting\n",
    "testPredictPlot = np.empty_like(df)\n",
    "testPredictPlot[:, :] = np.nan\n",
    "testPredictPlot[len(train_predict)+(look_back*2):len(df), :] = test_predict\n",
    "testPredictPlot[5]=318.99700928\n",
    "# plot baseline and predictions\n",
    "plt.plot(scaler.inverse_transform(df))\n",
    "plt.plot(trainPredictPlot)\n",
    "plt.plot(testPredictPlot)\n",
    "plt.show()"
   ]
  },
  {
   "cell_type": "code",
   "execution_count": 113,
   "metadata": {},
   "outputs": [
    {
     "name": "stdout",
     "output_type": "stream",
     "text": [
      "[[         nan]\n",
      " [         nan]\n",
      " [226.22305298]\n",
      " [273.75924683]\n",
      " [         nan]\n",
      " [         nan]\n",
      " [         nan]]\n",
      "[[         nan]\n",
      " [         nan]\n",
      " [         nan]\n",
      " [         nan]\n",
      " [         nan]\n",
      " [         nan]\n",
      " [318.99700928]]\n"
     ]
    }
   ],
   "source": [
    "print(trainPredictPlot)\n",
    "print(testPredictPlot)"
   ]
  },
  {
   "cell_type": "code",
   "execution_count": 1,
   "metadata": {},
   "outputs": [
    {
     "ename": "NameError",
     "evalue": "name 'all_dataframes' is not defined",
     "output_type": "error",
     "traceback": [
      "\u001b[1;31m---------------------------------------------------------------------------\u001b[0m",
      "\u001b[1;31mNameError\u001b[0m                                 Traceback (most recent call last)",
      "\u001b[1;32m<ipython-input-1-a240faad8687>\u001b[0m in \u001b[0;36m<module>\u001b[1;34m\u001b[0m\n\u001b[1;32m----> 1\u001b[1;33m \u001b[1;32mfor\u001b[0m \u001b[0mkey\u001b[0m \u001b[1;32min\u001b[0m \u001b[0mall_dataframes\u001b[0m\u001b[1;33m:\u001b[0m\u001b[1;33m\u001b[0m\u001b[1;33m\u001b[0m\u001b[0m\n\u001b[0m\u001b[0;32m      2\u001b[0m     \u001b[1;31m# print(key, all_dataframes[key])\u001b[0m\u001b[1;33m\u001b[0m\u001b[1;33m\u001b[0m\u001b[1;33m\u001b[0m\u001b[0m\n\u001b[0;32m      3\u001b[0m     \u001b[0mdf_t\u001b[0m \u001b[1;33m=\u001b[0m \u001b[0mall_dataframes\u001b[0m\u001b[1;33m[\u001b[0m\u001b[0mkey\u001b[0m\u001b[1;33m]\u001b[0m\u001b[1;33m\u001b[0m\u001b[1;33m\u001b[0m\u001b[0m\n\u001b[0;32m      4\u001b[0m \u001b[1;33m\u001b[0m\u001b[0m\n\u001b[0;32m      5\u001b[0m     \u001b[0mscaler\u001b[0m\u001b[1;33m=\u001b[0m\u001b[0mMinMaxScaler\u001b[0m\u001b[1;33m(\u001b[0m\u001b[0mfeature_range\u001b[0m\u001b[1;33m=\u001b[0m\u001b[1;33m(\u001b[0m\u001b[1;36m0\u001b[0m\u001b[1;33m,\u001b[0m\u001b[1;36m1\u001b[0m\u001b[1;33m)\u001b[0m\u001b[1;33m)\u001b[0m\u001b[1;33m\u001b[0m\u001b[1;33m\u001b[0m\u001b[0m\n",
      "\u001b[1;31mNameError\u001b[0m: name 'all_dataframes' is not defined"
     ]
    }
   ],
   "source": [
    "for key in all_dataframes:\n",
    "    # print(key, all_dataframes[key])\n",
    "    df_t = all_dataframes[key]\n",
    "    \n",
    "    scaler=MinMaxScaler(feature_range=(0,1))\n",
    "    df_t=scaler.fit_transform(np.array(df_t).reshape(-1,1))\n",
    "#     print(\"df_t\", df_t)\n",
    "#     timeseries_data=df_t.req_qty.to_numpy()\n",
    "    \n",
    "    # choose a number of time steps\n",
    "    n_steps = 2\n",
    "\n",
    "    training_size = int(len(df_t)*0.65)\n",
    "    print(training_size)\n",
    "    test_size = len(df_t) - training_size\n",
    "    train_data,test_data = df_t[0:training_size,:],df_t[training_size-1:len(df_t),:1]\n",
    "\n",
    "#     print(\"X_train = \" , X_train)\n",
    "#     print(\"y_train = \" , y_train)\n",
    "#     print(\"X_test = \" , X_test)\n",
    "#     print(\"y_test = \" , y_test)\n",
    "    # split into samples\n",
    "    X_train, y_train = prepare_data(train_data, n_steps)\n",
    "    X_test, y_test = prepare_data(test_data, n_steps)\n",
    "    \n",
    "#     print(X_train)\n",
    "#     print(y_train)\n",
    "#     print(X_test)\n",
    "#     print(y_test)\n",
    "    # reshape from [samples, timesteps] into [samples, timesteps, features]\n",
    "    n_features = 1\n",
    "    X_train = X_train.reshape((X_train.shape[0], X_train.shape[1], n_features))\n",
    "    X_test = X_test.reshape((X_test.shape[0], X_test.shape[1], n_features))\n",
    "    \n",
    "    # define model\n",
    "    model = Sequential()\n",
    "    model.add(LSTM(50, activation='relu', return_sequences=True, input_shape=(n_steps, n_features)))\n",
    "    model.add(LSTM(50, activation='relu'))\n",
    "    model.add(Dense(1))\n",
    "    model.compile(optimizer='adam', loss='mse')\n",
    "   \n",
    "    # fit model\n",
    "    model.fit(X_train, y_train, validation_data=(X_test, y_test), epochs=300, verbose=0)\n",
    "  \n",
    "    train_predict=model.predict(X_train)\n",
    "    test_predict=model.predict(X_test)\n",
    "    \n",
    "    train_predict=scaler.inverse_transform(train_predict)\n",
    "    test_predict=scaler.inverse_transform(test_predict)\n",
    "    \n",
    "    print(train_predict)\n",
    "    print(test_predict)\n",
    "    \n",
    "    import math\n",
    "    from sklearn.metrics import mean_squared_error\n",
    "    math.sqrt(mean_squared_error(y_train,train_predict))\n",
    "    \n",
    "    ### Test Data RMSE\n",
    "    math.sqrt(mean_squared_error(y_test,test_predict))\n",
    "    \n",
    "    ## Plotting \n",
    "    # shift train predictions for plotting\n",
    "    look_back=2\n",
    "    trainPredictPlot = np.empty_like(df_t)\n",
    "    trainPredictPlot[:, :] = np.nan\n",
    "    trainPredictPlot[look_back:len(train_predict)+look_back, :] = train_predict\n",
    "    # shift test predictions for plotting\n",
    "    testPredictPlot = np.empty_like(df_t)\n",
    "    testPredictPlot[:, :] = np.nan\n",
    "    testPredictPlot[len(train_predict)+(look_back*2)+1:len(df_t)-1, :] = test_predict\n",
    "    # plot baseline and predictions\n",
    "    plt.plot(scaler.inverse_transform(df_t))\n",
    "    plt.plot(trainPredictPlot)\n",
    "    plt.plot(testPredictPlot)\n",
    "    plt.show()\n",
    "    print(trainPredictPlot)\n",
    "    print(testPredictPlot)\n",
    "#     # demonstrate prediction for next 10 days\n",
    "#     x_input = np.array(timeseries_data[-3:])\n",
    "#     temp_input=list(x_input)\n",
    "#     lst_output=[]\n",
    "#     i=0\n",
    "#     n=10\n",
    "#     while(i<n):\n",
    "#         if(len(temp_input)>3):\n",
    "#             x_input=np.array(temp_input[1:])\n",
    "#             print(\"{} month input {}\".format(i,x_input))\n",
    "#             #print(x_input)\n",
    "#             x_input = x_input.reshape((1, n_steps, n_features))\n",
    "#             #print(x_input)\n",
    "#             yhat = model.predict(x_input, verbose=0)\n",
    "#             print(\"{} month output {}\".format(i,yhat))\n",
    "#             temp_input.append(yhat[0][0])\n",
    "#             temp_input=temp_input[1:]\n",
    "#             #print(temp_input)\n",
    "#             lst_output.append(yhat[0][0])\n",
    "#             i=i+1\n",
    "#         else:\n",
    "#             x_input = x_input.reshape((1, n_steps, n_features))\n",
    "#             yhat = model.predict(x_input, verbose=0)\n",
    "#             print(yhat[0])\n",
    "#             temp_input.append(yhat[0][0])\n",
    "#             lst_output.append(yhat[0][0])\n",
    "#             i=i+1\n",
    "    \n",
    "\n",
    "#     print(lst_output)\n",
    "    \n",
    "    \n",
    "    \n",
    "    \n",
    "    "
   ]
  },
  {
   "cell_type": "markdown",
   "metadata": {},
   "source": [
    "# Visualizaing The Output"
   ]
  },
  {
   "cell_type": "code",
   "execution_count": 28,
   "metadata": {},
   "outputs": [],
   "source": [
    "import matplotlib.pyplot as plt\n",
    "%matplotlib inline"
   ]
  },
  {
   "cell_type": "code",
   "execution_count": 18,
   "metadata": {},
   "outputs": [],
   "source": [
    "day_new=np.arange(1,10)\n",
    "day_pred=np.arange(10,20)"
   ]
  },
  {
   "cell_type": "code",
   "execution_count": 19,
   "metadata": {},
   "outputs": [
    {
     "data": {
      "text/plain": [
       "array([  7.18181818,  40.3       , 229.45833333, 272.73684211,\n",
       "       124.40909091, 218.75      ,  59.28571429])"
      ]
     },
     "execution_count": 19,
     "metadata": {},
     "output_type": "execute_result"
    }
   ],
   "source": [
    "timeseries_data"
   ]
  },
  {
   "cell_type": "code",
   "execution_count": 20,
   "metadata": {},
   "outputs": [
    {
     "data": {
      "text/plain": [
       "[262.05286,\n",
       " 635.3066,\n",
       " 413.01193,\n",
       " 321.39294,\n",
       " 279.67416,\n",
       " 136.86084,\n",
       " 171.20644,\n",
       " 64.04886,\n",
       " 144.49939,\n",
       " 211.03458]"
      ]
     },
     "execution_count": 20,
     "metadata": {},
     "output_type": "execute_result"
    }
   ],
   "source": [
    "lst_output"
   ]
  },
  {
   "cell_type": "code",
   "execution_count": 21,
   "metadata": {},
   "outputs": [
    {
     "data": {
      "text/plain": [
       "[<matplotlib.lines.Line2D at 0x129787210>]"
      ]
     },
     "execution_count": 21,
     "metadata": {},
     "output_type": "execute_result"
    },
    {
     "data": {
      "image/png": "[encoded data removed]",
      "text/plain": [
       "<Figure size 432x288 with 1 Axes>"
      ]
     },
     "metadata": {
      "needs_background": "light"
     },
     "output_type": "display_data"
    }
   ],
   "source": [
    "plt.plot(timeseries_data)\n",
    "plt.plot(lst_output)"
   ]
  },
  {
   "cell_type": "code",
   "execution_count": null,
   "metadata": {},
   "outputs": [],
   "source": []
  }
 ],
 "metadata": {
  "kernelspec": {
   "display_name": "Python 3",
   "language": "python",
   "name": "python3"
  },
  "language_info": {
   "codemirror_mode": {
    "name": "ipython",
    "version": 3
   },
   "file_extension": ".py",
   "mimetype": "text/x-python",
   "name": "python",
   "nbconvert_exporter": "python",
   "pygments_lexer": "ipython3",
   "version": "3.7.3"
  }
 },
 "nbformat": 4,
 "nbformat_minor": 4
}
